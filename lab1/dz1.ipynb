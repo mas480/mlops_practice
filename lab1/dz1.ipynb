{
 "cells": [
  {
   "cell_type": "markdown",
   "id": "f50a8c63-3578-4dfa-b045-8dc17fe78a31",
   "metadata": {},
   "source": [
    "# Создается датасет - характеризующий параметры автомобиля:\n",
    "- max_sp: максимальная скорость, км/ч\n",
    "- ac_one: разгон до 100 км/ч, сек\n",
    "- v: объем двигателя, см3\n",
    "- hp: количество л/с ( > 200 - 1, < 200 - 0)"
   ]
  },
  {
   "cell_type": "code",
   "execution_count": 1,
   "id": "ac3e0ab8-0caa-490a-951f-e330c64e7dd1",
   "metadata": {
    "tags": []
   },
   "outputs": [
    {
     "name": "stdout",
     "output_type": "stream",
     "text": [
      "Model test accuracy is: 0.146\n"
     ]
    }
   ],
   "source": [
    "import numpy as np\n",
    "import pandas as pd\n",
    "from sklearn.model_selection import train_test_split\n",
    "from sklearn.preprocessing import StandardScaler\n",
    "import os\n",
    "from sklearn.linear_model import LinearRegression\n",
    "import pickle\n",
    "\n",
    "# data_creation.py\n",
    "\n",
    "# создание датасета\n",
    "max_sp = np.random.normal(180, 40, 5000) + np.random.uniform(0, 10, 5000)\n",
    "ac_one = np.random.normal(8, 6, 5000) + np.random.uniform(0, 2, 5000)\n",
    "v = np.random.normal(2000, 1000, 5000)\n",
    "\n",
    "data = {'max_sp': max_sp, 'ac_one': ac_one, 'v': v} \n",
    "df = pd.DataFrame(data) \n",
    "\n",
    "# если разгон до 100км/ч меньше 6 секунд - кол-во л/с больше 200\n",
    "df['hp'] = df['ac_one'].apply(lambda x: 1 if x < 6 else 0)\n",
    "\n",
    "df_train, df_test = train_test_split(df, test_size=0.3, random_state=42)\n",
    "\n",
    "# Создание train и test\n",
    "if not os.path.exists('train'):\n",
    "    os.makedirs('train')\n",
    "if not os.path.exists('test'):\n",
    "    os.makedirs('test')\n",
    "    \n",
    "\n",
    "df_train.to_csv('train/df_train.csv', index=False)\n",
    "df_test.to_csv('test/df_test.csv', index=False)\n",
    "\n",
    "\n",
    "\n",
    "# ----------------\n",
    "\n",
    "df_train = pd.read_csv('train/df_train.csv')\n",
    "df_test = pd.read_csv('test/df_test.csv')\n",
    "\n",
    "# принимаем, что разгон до 100 км/ч менее 3 сек - выбросы\n",
    "filt_train = ((df_train['ac_one'] > 3))\n",
    "filt_test = ((df_test['ac_one'] > 3))\n",
    "df_train, df_test = df_train[filt_train], df_test[filt_test]\n",
    "\n",
    "# Стандартизация\n",
    "scaler = StandardScaler()\n",
    "df_train.iloc[:, :-1] = scaler.fit_transform(df_train.iloc[:, :-1])\n",
    "df_test.iloc[:, :-1] = scaler.fit_transform(df_test.iloc[:, :-1])\n",
    "\n",
    "# Сохранение обработанных данных в файлы\n",
    "if not os.path.exists('preprocessed_train'):\n",
    "    os.makedirs('preprocessed_train')\n",
    "if not os.path.exists('preprocessed_test'):\n",
    "    os.makedirs('preprocessed_test')\n",
    "\n",
    "df_train.to_csv('train/preprocessed_train.csv', index=False)\n",
    "df_test.to_csv('test/preprocessed_test.csv', index=False)\n",
    "\n",
    "\n",
    "# model_preparation.py\n",
    "\n",
    "df_train = pd.read_csv('train/preprocessed_train.csv')\n",
    "\n",
    "X_train = df_train.iloc[:, :-1].values\n",
    "y_train = df_train.iloc[:, -1].values\n",
    "\n",
    "model = LinearRegression(fit_intercept=False)\n",
    "reg = model.fit(X_train, y_train)\n",
    "\n",
    "pkl_filename = \"reg_model.pkl\" \n",
    "with open(pkl_filename, 'wb') as file: \n",
    "    pickle.dump(model, file) \n",
    "    \n",
    "    \n",
    "# model_testing.py\n",
    "\n",
    "pkl_filename = \"reg_model.pkl\" \n",
    "with open(pkl_filename, 'rb') as file: \n",
    "    model = pickle.load(file) \n",
    "\n",
    "df_test = pd.read_csv('test/preprocessed_test.csv')\n",
    "X_test = df_test.iloc[:, :-1].values\n",
    "y_test = df_test.iloc[:, -1].values\n",
    "\n",
    "print(f'Model test accuracy is: {round(model.score(X_test, y_test),3)}')"
   ]
  },
  {
   "cell_type": "code",
   "execution_count": null,
   "id": "43bb6c6a-5f7e-4fe2-bf9b-86ee390568fa",
   "metadata": {},
   "outputs": [],
   "source": []
  }
 ],
 "metadata": {
  "kernelspec": {
   "display_name": "Python 3 (ipykernel)",
   "language": "python",
   "name": "python3"
  },
  "language_info": {
   "codemirror_mode": {
    "name": "ipython",
    "version": 3
   },
   "file_extension": ".py",
   "mimetype": "text/x-python",
   "name": "python",
   "nbconvert_exporter": "python",
   "pygments_lexer": "ipython3",
   "version": "3.11.5"
  }
 },
 "nbformat": 4,
 "nbformat_minor": 5
}
